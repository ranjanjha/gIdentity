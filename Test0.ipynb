{
  "nbformat": 4,
  "nbformat_minor": 0,
  "metadata": {
    "colab": {
      "provenance": [],
      "authorship_tag": "ABX9TyPUYvxHREzKd7Hz/289ZT7L",
      "include_colab_link": true
    },
    "kernelspec": {
      "name": "python3",
      "display_name": "Python 3"
    },
    "language_info": {
      "name": "python"
    }
  },
  "cells": [
    {
      "cell_type": "markdown",
      "metadata": {
        "id": "view-in-github",
        "colab_type": "text"
      },
      "source": [
        "<a href=\"https://colab.research.google.com/github/ranjanjha/gIdentity/blob/develop/Test0.ipynb\" target=\"_parent\"><img src=\"https://colab.research.google.com/assets/colab-badge.svg\" alt=\"Open In Colab\"/></a>"
      ]
    },
    {
      "cell_type": "code",
      "execution_count": 2,
      "metadata": {
        "colab": {
          "base_uri": "https://localhost:8080/"
        },
        "id": "QF9Xiou5VrxQ",
        "outputId": "fe369954-6f73-4049-fc54-98828b6c5a89"
      },
      "outputs": [
        {
          "output_type": "stream",
          "name": "stdout",
          "text": [
            "Ranjan 1st test in google collab\n"
          ]
        }
      ],
      "source": [
        "print(\"Ranjan 1st test in google collab\")"
      ]
    },
    {
      "cell_type": "code",
      "source": [
        "ten= 10\n",
        "twenty= 20\n",
        "c = ten + twenty\n",
        "print(\"Total is = \",c)"
      ],
      "metadata": {
        "colab": {
          "base_uri": "https://localhost:8080/"
        },
        "id": "XzO_JM0E2TqJ",
        "outputId": "b200ec79-2e04-406c-9be8-4f51e84754ba"
      },
      "execution_count": 5,
      "outputs": [
        {
          "output_type": "stream",
          "name": "stdout",
          "text": [
            "Total is =  30\n"
          ]
        }
      ]
    }
  ]
}